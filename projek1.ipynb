{
  "nbformat": 4,
  "nbformat_minor": 0,
  "metadata": {
    "colab": {
      "provenance": [],
      "authorship_tag": "ABX9TyPqId26zQDKGr4ldfNZ6nle",
      "include_colab_link": true
    },
    "kernelspec": {
      "name": "python3",
      "display_name": "Python 3"
    },
    "language_info": {
      "name": "python"
    }
  },
  "cells": [
    {
      "cell_type": "markdown",
      "metadata": {
        "id": "view-in-github",
        "colab_type": "text"
      },
      "source": [
        "<a href=\"https://colab.research.google.com/github/MuammarArianto/MuammarArianto_F55121066_UAS_PAA2/blob/main/projek1.ipynb\" target=\"_parent\"><img src=\"https://colab.research.google.com/assets/colab-badge.svg\" alt=\"Open In Colab\"/></a>"
      ]
    },
    {
      "cell_type": "code",
      "execution_count": 5,
      "metadata": {
        "id": "OZQnZkA1xOeI"
      },
      "outputs": [],
      "source": [
        "import time\n",
        "\n",
        "\n",
        "def bubble_sort(arr):\n",
        "    n = len(arr)\n",
        "    start_time = time.time()\n",
        "    for i in range(n - 1):\n",
        "        for j in range(0, n - i - 1):\n",
        "            if arr[j] > arr[j + 1]:\n",
        "                arr[j], arr[j + 1] = arr[j + 1], arr[j]\n",
        "    end_time = time.time()\n",
        "    execution_time = end_time - start_time\n",
        "    return arr, execution_time\n",
        "\n",
        "def insertion_sort(arr):\n",
        "    n = len(arr)\n",
        "    start_time = time.time()\n",
        "    for i in range(1, n):\n",
        "        key = arr[i]\n",
        "        j = i - 1\n",
        "        while j >= 0 and arr[j] > key:\n",
        "            arr[j + 1] = arr[j]\n",
        "            j -= 1\n",
        "        arr[j + 1] = key\n",
        "    end_time = time.time()\n",
        "    execution_time = end_time - start_time\n",
        "    return arr, execution_time\n",
        "\n",
        "def analyze_algorithm():\n",
        "    arr = [12, 99, 62, 15, 20, 95, 39, 48, 3, 24, 8, 43, 74, 19, 97, 33, 49, 68, 55, 33, 90, 90, 7,\n",
        "           26, 85, 46, 39, 40, 9, 36, 60, 64, 89, 31, 25, 71, 21, 23, 63, 84, 32, 5, 3, 44, 21, 10, 21,\n",
        "           17, 50, 2, 36, 53, 79, 54, 19, 88, 1, 32, 31, 15, 6, 3, 1, 40, 22, 43, 18, 1, 77, 9, 59,\n",
        "           40, 7, 41, 81]\n",
        "\n",
        "    print(\"Before sorting:\")\n",
        "    print(arr)\n",
        "    print()\n",
        "\n",
        "    choice = input(\"Enter 'B' for Bubble Sort or 'I' for Insertion Sort: \").upper()\n",
        "\n",
        "    if choice == 'B':\n",
        "        sorted_arr, execution_time = bubble_sort(arr)\n",
        "        print(\"\\nBubble Sort:\")\n",
        "    elif choice == 'I':\n",
        "        sorted_arr, execution_time = insertion_sort(arr)\n",
        "        print(\"\\nInsertion Sort:\")\n",
        "    else:\n",
        "        print(\"Invalid choice.\")\n",
        "        return\n",
        "\n",
        "    print(\"\\nAfter sorting:\")\n",
        "    print(sorted_arr)\n",
        "\n",
        "    print(\"\\nFirst 5 iterations:\")\n",
        "    for i in range(5):\n",
        "        print(f\"Iteration {i + 1}: {sorted_arr[:i + 1]}\")\n",
        "\n",
        "    print(\"\\nLast 5 iterations:\")\n",
        "    for i in range(len(sorted_arr) - 5, len(sorted_arr)):\n",
        "        print(f\"Iteration {i + 1}: {sorted_arr[:i + 1]}\")\n",
        "\n",
        "    print(\"\\nExecution time:\", execution_time, \"seconds\")\n",
        "    # Analisis Algoritma\n",
        "    n = len(arr)\n",
        "    print(\"\\nAnalisis Algoritma:\")\n",
        "    print(\"-------------------------------\")\n",
        "    print(\"Analisis Kasus Terburuk:\")\n",
        "    print(f\"Kompleksitas Waktu: O({n**2})\")\n",
        "    print(\"Penjelasan: Dalam kasus terburuk, baik bubble sort dan insertion sort memiliki kompleksitas waktu O(n^2) karena keduanya membutuhkan loop bersarang untuk membandingkan dan menukar elemen.\")\n",
        "\n",
        "    print(\"\\nAnalisis Kasus Terbaik:\")\n",
        "    print(\"Kompleksitas Waktu: O(n)\")\n",
        "    print(\"Penjelasan: Kasus terbaik terjadi ketika array sudah diurutkan. Dalam hal ini, bubble sort dan insertion sort memiliki kompleksitas waktu O(n) karena mereka hanya memerlukan satu lintasan melalui array untuk mengonfirmasi bahwa array telah diurutkan. \")\n",
        "\n",
        "    print(\"\\nAnalisis Kasus Rata-Rata:\")\n",
        "    print(\"Kompleksitas Waktu: O(n^2)\")\n",
        "    print(\"Penjelasan: Rata-rata, pengurutan gelembung dan pengurutan penyisipan memiliki kompleksitas waktu O(n^2) karena mereka membutuhkan loop bersarang untuk membandingkan dan menukar elemen. Meskipun pengurutan penyisipan memiliki kinerja yang lebih baik daripada pengurutan gelembung dalam kasus rata-rata karena ke operasi pemindahan elemen yang efisien.\")\n",
        "\n",
        "analyze_algorithm()\n",
        "\n",
        "\n"
      ]
    }
  ]
}